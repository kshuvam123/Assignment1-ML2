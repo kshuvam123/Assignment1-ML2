{
  "cells": [
    {
      "cell_type": "code",
      "execution_count": 1,
      "id": "6a2b5652",
      "metadata": {
        "id": "6a2b5652"
      },
      "outputs": [],
      "source": [
        "import torch\n",
        "import torch.nn as nn\n",
        "import torch.optim as optim\n",
        "import torchvision\n",
        "import torchvision.transforms as transforms\n",
        "import matplotlib.pyplot as plt\n",
        "import numpy as np\n",
        "import torch.nn.functional as F\n",
        "from torch.utils.data import DataLoader"
      ]
    },
    {
      "cell_type": "code",
      "execution_count": 2,
      "id": "e3af31cf",
      "metadata": {
        "id": "e3af31cf"
      },
      "outputs": [],
      "source": [
        "image_transforms = transforms.Compose([\n",
        "    transforms.Resize((32, 32)),\n",
        "    transforms.ToTensor(),\n",
        "    transforms.Normalize(mean=(0.5, 0.5, 0.5), std=(0.5, 0.5, 0.5))])"
      ]
    },
    {
      "cell_type": "code",
      "execution_count": null,
      "id": "2d2bbd6f",
      "metadata": {},
      "outputs": [],
      "source": [
        "from google.colab import drive\n",
        "drive.mount('/content/drive')"
      ]
    },
    {
      "cell_type": "code",
      "execution_count": null,
      "id": "8e8eeaf9",
      "metadata": {
        "colab": {
          "base_uri": "https://localhost:8080/"
        },
        "id": "8e8eeaf9",
        "outputId": "cd08a1d1-0348-4218-86a4-a875523ec9a8"
      },
      "outputs": [
        {
          "name": "stdout",
          "output_type": "stream",
          "text": [
            "Shape of one batch of real images: torch.Size([128, 3, 32, 32])\n",
            "Pixel value minimum: -1.0\n",
            "Pixel value maximum: 1.0\n"
          ]
        }
      ],
      "source": [
        "from torchvision.datasets import ImageFolder\n",
        "DATA_DIR = \"/content/drive/MyDrive/Assignment1_ML2/dataset\"\n",
        "BATCH_SIZE = 128\n",
        "dataset = ImageFolder(root=DATA_DIR, transform=image_transforms)\n",
        "dataloader = DataLoader(dataset,batch_size=BATCH_SIZE,shuffle=True,num_workers=2 )\n",
        "\n",
        "real_images_batch, _ = next(iter(dataloader))\n",
        "print(f\"Shape of one batch of real images: {real_images_batch.shape}\")\n",
        "print(f\"Pixel value minimum: {real_images_batch.min()}\")\n",
        "print(f\"Pixel value maximum: {real_images_batch.max()}\")"
      ]
    },
    {
      "cell_type": "code",
      "execution_count": 19,
      "id": "04e5b4a6",
      "metadata": {
        "id": "04e5b4a6"
      },
      "outputs": [],
      "source": [
        "class Discriminator(nn.Module):\n",
        "    def __init__(self,input_size=3):\n",
        "        super().__init__()\n",
        "        self.sequential = nn.Sequential(\n",
        "            nn.Conv2d(input_size,32,kernel_size=4,padding=1,stride=2),\n",
        "            nn.BatchNorm2d(32),\n",
        "            nn.ReLU(),\n",
        "            nn.Conv2d(32,64,kernel_size=4,padding=1,stride=2),\n",
        "\n",
        "            nn.BatchNorm2d(64),\n",
        "            nn.ReLU(),\n",
        "            nn.Conv2d(64,128,kernel_size=4,padding=1,stride=2),\n",
        "\n",
        "            nn.BatchNorm2d(128),\n",
        "            nn.ReLU(),\n",
        "            nn.Conv2d(128,1,kernel_size=4,padding=0,stride=1),\n",
        "\n",
        "            nn.Flatten()\n",
        "        )\n",
        "    def forward(self,x):\n",
        "        x = self.sequential(x)\n",
        "        return x.view(-1)"
      ]
    },
    {
      "cell_type": "code",
      "execution_count": 20,
      "id": "d49a6efb",
      "metadata": {
        "id": "d49a6efb"
      },
      "outputs": [],
      "source": [
        "class Generator(nn.Module):\n",
        "    def __init__(self,latent_dim=100):\n",
        "        super().__init__()\n",
        "        self.linear =nn.Sequential(\n",
        "            nn.Linear(latent_dim,128*4*4),\n",
        "            nn.BatchNorm1d(128*4*4),\n",
        "            nn.ReLU(),\n",
        "        )\n",
        "        self.sequential = nn.Sequential(\n",
        "            nn.ConvTranspose2d(128,64,kernel_size=4,stride=2,padding = 1),\n",
        "            nn.BatchNorm2d(64),\n",
        "            nn.ReLU(),\n",
        "            nn.ConvTranspose2d(64,32,kernel_size=4,stride=2,padding = 1),\n",
        "            nn.BatchNorm2d(32),\n",
        "            nn.ReLU(),\n",
        "            nn.ConvTranspose2d(32,3,kernel_size=4,stride=2,padding = 1),\n",
        "            nn.BatchNorm2d(3),\n",
        "            nn.Tanh()\n",
        "        )\n",
        "    def forward(self,x):\n",
        "        x = self.linear(x)\n",
        "        x = x.view(-1,128,4,4)\n",
        "        return self.sequential(x)"
      ]
    },
    {
      "cell_type": "code",
      "execution_count": 33,
      "id": "8c8e02e1",
      "metadata": {
        "id": "8c8e02e1"
      },
      "outputs": [],
      "source": [
        "device = torch.device(\"cuda\" if torch.cuda.is_available() else \"cpu\")\n",
        "D = Discriminator().to(device)\n",
        "G = Generator().to(device)"
      ]
    },
    {
      "cell_type": "code",
      "execution_count": 34,
      "id": "4e02b7bd",
      "metadata": {
        "id": "4e02b7bd"
      },
      "outputs": [],
      "source": [
        "def discriminator_loss_function(real,fake):\n",
        "    z = torch.mean((real-1)**2 + fake**2)\n",
        "    return z *0.5\n",
        "\n",
        "def generator_loss_function(fake):\n",
        "    z = torch.mean((fake-1)**2)\n",
        "    return z*0.5"
      ]
    },
    {
      "cell_type": "code",
      "execution_count": 35,
      "id": "15f64692",
      "metadata": {
        "id": "15f64692"
      },
      "outputs": [],
      "source": [
        "d_optimizer = optim.Adam(D.parameters(), lr=0.0002, betas=(0.5, 0.999))\n",
        "g_optimizer = optim.Adam(G.parameters(), lr=0.0002, betas=(0.5, 0.999))\n",
        "epochs = 20000"
      ]
    },
    {
      "cell_type": "code",
      "execution_count": 36,
      "id": "t67qVEXAOeEW",
      "metadata": {
        "id": "t67qVEXAOeEW"
      },
      "outputs": [],
      "source": [
        "import os\n",
        "os.makedirs(\"GAN_results\", exist_ok=True)"
      ]
    },
    {
      "cell_type": "code",
      "execution_count": 37,
      "id": "7310e3f3",
      "metadata": {
        "colab": {
          "base_uri": "https://localhost:8080/"
        },
        "id": "7310e3f3",
        "outputId": "b811800e-0bee-4e62-9fc3-044d1765ea19"
      },
      "outputs": [
        {
          "name": "stdout",
          "output_type": "stream",
          "text": [
            "Step 200, D Loss: 0.0180, G Loss: 0.7063\n",
            "Step 400, D Loss: 0.0150, G Loss: 0.7220\n",
            "Step 600, D Loss: 0.0270, G Loss: 0.7251\n",
            "Step 800, D Loss: 0.0124, G Loss: 0.5047\n",
            "Step 1000, D Loss: 0.0302, G Loss: 0.3512\n",
            "Step 1200, D Loss: 0.0285, G Loss: 0.3550\n",
            "Step 1400, D Loss: 0.0323, G Loss: 0.4475\n",
            "Step 1600, D Loss: 0.0336, G Loss: 0.4933\n",
            "Step 1800, D Loss: 0.0176, G Loss: 0.5186\n",
            "Step 2000, D Loss: 0.0324, G Loss: 0.3971\n",
            "Step 2200, D Loss: 0.0212, G Loss: 0.5554\n",
            "Step 2400, D Loss: 0.0146, G Loss: 0.4790\n",
            "Step 2600, D Loss: 0.0278, G Loss: 0.6362\n",
            "Step 2800, D Loss: 0.0170, G Loss: 0.4468\n",
            "Step 3000, D Loss: 0.0893, G Loss: 0.2785\n",
            "Step 3200, D Loss: 0.0168, G Loss: 0.4429\n",
            "Step 3400, D Loss: 0.0124, G Loss: 0.4661\n",
            "Step 3600, D Loss: 0.0133, G Loss: 0.5441\n",
            "Step 3800, D Loss: 0.0261, G Loss: 0.4595\n",
            "Step 4000, D Loss: 0.0101, G Loss: 0.4869\n",
            "Step 4200, D Loss: 0.0176, G Loss: 0.5441\n",
            "Step 4400, D Loss: 0.0175, G Loss: 0.4133\n",
            "Step 4600, D Loss: 0.0128, G Loss: 0.4218\n",
            "Step 4800, D Loss: 0.0121, G Loss: 0.5002\n",
            "Step 5000, D Loss: 0.0271, G Loss: 0.5744\n",
            "Step 5200, D Loss: 0.0519, G Loss: 0.3628\n",
            "Step 5400, D Loss: 0.0260, G Loss: 0.6846\n",
            "Step 5600, D Loss: 0.0080, G Loss: 0.4848\n",
            "Step 5800, D Loss: 0.0156, G Loss: 0.3875\n",
            "Step 6000, D Loss: 0.0199, G Loss: 0.4992\n",
            "Step 6200, D Loss: 0.0161, G Loss: 0.4817\n",
            "Step 6400, D Loss: 0.0521, G Loss: 0.6239\n",
            "Step 6600, D Loss: 0.0085, G Loss: 0.5024\n",
            "Step 6800, D Loss: 0.0132, G Loss: 0.4731\n",
            "Step 7000, D Loss: 0.0200, G Loss: 0.3945\n",
            "Step 7200, D Loss: 0.0076, G Loss: 0.4518\n",
            "Step 7400, D Loss: 0.0125, G Loss: 0.5262\n",
            "Step 7600, D Loss: 0.0118, G Loss: 0.5171\n",
            "Step 7800, D Loss: 0.0215, G Loss: 0.4903\n",
            "Step 8000, D Loss: 0.0068, G Loss: 0.4970\n",
            "Step 8200, D Loss: 0.0090, G Loss: 0.4817\n",
            "Step 8400, D Loss: 0.0229, G Loss: 0.5976\n",
            "Step 8600, D Loss: 0.0102, G Loss: 0.4324\n",
            "Step 8800, D Loss: 0.0148, G Loss: 0.4754\n",
            "Step 9000, D Loss: 0.0165, G Loss: 0.5503\n",
            "Step 9200, D Loss: 0.0065, G Loss: 0.4808\n",
            "Step 9400, D Loss: 0.0099, G Loss: 0.3998\n",
            "Step 9600, D Loss: 0.0393, G Loss: 0.4258\n",
            "Step 9800, D Loss: 0.0246, G Loss: 0.4302\n",
            "Step 10000, D Loss: 0.0213, G Loss: 0.5051\n",
            "Step 10200, D Loss: 0.0127, G Loss: 0.5117\n",
            "Step 10400, D Loss: 0.0084, G Loss: 0.5366\n",
            "Step 10600, D Loss: 0.0079, G Loss: 0.5288\n",
            "Step 10800, D Loss: 0.0082, G Loss: 0.4391\n",
            "Step 11000, D Loss: 0.0077, G Loss: 0.4313\n",
            "Step 11200, D Loss: 0.0068, G Loss: 0.6382\n",
            "Step 11400, D Loss: 0.0051, G Loss: 0.5204\n",
            "Step 11600, D Loss: 0.0198, G Loss: 0.6060\n",
            "Step 11800, D Loss: 0.0058, G Loss: 0.4751\n",
            "Step 12000, D Loss: 0.0065, G Loss: 0.4885\n",
            "Step 12200, D Loss: 0.0247, G Loss: 0.6311\n",
            "Step 12400, D Loss: 0.0137, G Loss: 0.5065\n",
            "Step 12600, D Loss: 0.0356, G Loss: 0.6256\n",
            "Step 12800, D Loss: 0.0055, G Loss: 0.5306\n",
            "Step 13000, D Loss: 0.0070, G Loss: 0.4793\n",
            "Step 13200, D Loss: 0.0261, G Loss: 0.3858\n",
            "Step 13400, D Loss: 0.0054, G Loss: 0.4212\n",
            "Step 13600, D Loss: 0.0066, G Loss: 0.5557\n",
            "Step 13800, D Loss: 0.0197, G Loss: 0.6401\n",
            "Step 14000, D Loss: 0.0051, G Loss: 0.5453\n",
            "Step 14200, D Loss: 0.0052, G Loss: 0.5130\n",
            "Step 14400, D Loss: 0.0080, G Loss: 0.3867\n",
            "Step 14600, D Loss: 0.0179, G Loss: 0.3958\n",
            "Step 14800, D Loss: 0.0196, G Loss: 0.4329\n",
            "Step 15000, D Loss: 0.0060, G Loss: 0.6136\n",
            "Step 15200, D Loss: 0.0095, G Loss: 0.4631\n",
            "Step 15400, D Loss: 0.0201, G Loss: 0.5762\n",
            "Step 15600, D Loss: 0.0091, G Loss: 0.3551\n",
            "Step 15800, D Loss: 0.0057, G Loss: 0.3810\n",
            "Step 16000, D Loss: 0.0568, G Loss: 0.8065\n",
            "Step 16200, D Loss: 0.0053, G Loss: 0.4175\n",
            "Step 16400, D Loss: 0.0191, G Loss: 0.4204\n",
            "Step 16600, D Loss: 0.0161, G Loss: 0.6027\n",
            "Step 16800, D Loss: 0.0200, G Loss: 0.4993\n",
            "Step 17000, D Loss: 0.0087, G Loss: 0.6566\n",
            "Step 17200, D Loss: 0.0112, G Loss: 0.5089\n",
            "Step 17400, D Loss: 0.0270, G Loss: 0.4939\n",
            "Step 17600, D Loss: 0.0062, G Loss: 0.4191\n",
            "Step 17800, D Loss: 0.0182, G Loss: 0.6959\n",
            "Step 18000, D Loss: 0.0151, G Loss: 0.4607\n",
            "Step 18200, D Loss: 0.0046, G Loss: 0.4564\n",
            "Step 18400, D Loss: 0.0051, G Loss: 0.4956\n",
            "Step 18600, D Loss: 0.0043, G Loss: 0.5685\n",
            "Step 18800, D Loss: 0.0248, G Loss: 0.3757\n",
            "Step 19000, D Loss: 0.0152, G Loss: 0.4368\n",
            "Step 19200, D Loss: 0.0044, G Loss: 0.4359\n",
            "Step 19400, D Loss: 0.0151, G Loss: 0.4477\n",
            "Step 19600, D Loss: 0.0161, G Loss: 0.5666\n",
            "Step 19800, D Loss: 0.0303, G Loss: 0.6562\n",
            "Step 20000, D Loss: 0.0084, G Loss: 0.5296\n"
          ]
        }
      ],
      "source": [
        "from torchvision.utils import save_image\n",
        "import os\n",
        "\n",
        "g_losses, d_losses = [], []\n",
        "batch_size = 128\n",
        "\n",
        "\n",
        "data_iter= iter(dataloader)\n",
        "D.train()\n",
        "G.train()\n",
        "\n",
        "for epoch in range(1, epochs+1):\n",
        "    try:\n",
        "        real_images, _ = next(data_iter)\n",
        "    except:\n",
        "        data_iter= iter(dataloader)\n",
        "        real_images, _ = next(data_iter)\n",
        "\n",
        "    real_batch = real_images[:batch_size].to(device)\n",
        "\n",
        "    current_batch_size = real_batch.size(0)\n",
        "\n",
        "    # labels\n",
        "    real_labels = torch.ones((current_batch_size, 1), device=device)\n",
        "    fake_labels = torch.zeros((current_batch_size, 1), device=device)\n",
        "\n",
        "\n",
        "    # Train Discriminator\n",
        "    z = torch.randn(current_batch_size, 100, device=device)\n",
        "    with torch.no_grad():\n",
        "        fake_batch = G(z)\n",
        "\n",
        "    D_real = D(real_batch)\n",
        "    D_fake = D(fake_batch.detach())\n",
        "\n",
        "    d_loss = discriminator_loss_function(D_real,D_fake)\n",
        "\n",
        "\n",
        "    d_optimizer.zero_grad()\n",
        "    d_loss.backward()\n",
        "    d_optimizer.step()\n",
        "\n",
        "\n",
        "    # Train Generator\n",
        "    z = torch.randn(current_batch_size, 100,device=device)\n",
        "    fake_batch = G(z)\n",
        "    D_fake = D(fake_batch)\n",
        "    g_loss = generator_loss_function(D_fake)\n",
        "\n",
        "\n",
        "    g_optimizer.zero_grad()\n",
        "    g_loss.backward()\n",
        "    g_optimizer.step()\n",
        "\n",
        "\n",
        "    g_losses.append(g_loss.item())\n",
        "    d_losses.append(d_loss.item())\n",
        "\n",
        "    if epoch % 200 == 0:\n",
        "        print(f\"Step {epoch}, D Loss: {d_loss.item():.4f}, G Loss: {g_loss.item():.4f}\")\n",
        "        G.eval()\n",
        "        with torch.no_grad():\n",
        "            z = torch.randn(batch_size,100, device=device) # use full batch size for generating samples\n",
        "            fake_samples = G(z).detach().cpu()\n",
        "        save_image(fake_samples, f\"GAN_results/epoch_{epoch}.png\", normalize=True, nrow=8)\n",
        "        G.train()"
      ]
    },
    {
      "cell_type": "code",
      "execution_count": 43,
      "id": "74aa17df",
      "metadata": {},
      "outputs": [
        {
          "data": {
            "image/png": "[encoded data removed]",
            "text/plain": [
              "<Figure size 640x480 with 1 Axes>"
            ]
          },
          "metadata": {},
          "output_type": "display_data"
        }
      ],
      "source": [
        "plt.plot(g_losses, label=\"Generator\")\n",
        "plt.plot(d_losses, label=\"Discriminator\")\n",
        "plt.xlabel(\"Iteration\")\n",
        "plt.ylabel(\"Loss\")\n",
        "plt.legend()\n",
        "plt.title(\"Training Losses\")\n",
        "plt.show()"
      ]
    },
    {
      "cell_type": "markdown",
      "id": "f8sGA-4353AF",
      "metadata": {
        "id": "f8sGA-4353AF"
      },
      "source": [
        "FID Score"
      ]
    },
    {
      "cell_type": "code",
      "execution_count": 41,
      "id": "208c87a4",
      "metadata": {},
      "outputs": [],
      "source": [
        "os.makedirs(\"Generated\", exist_ok=True)\n",
        "G.eval()\n",
        "saved_count = 0\n",
        "batch_size = 128\n",
        "with torch.no_grad():\n",
        "    while saved_count <3000:\n",
        "        z = torch.randn(batch_size,100,device=device)\n",
        "        fake_images = G(z).detach().cpu()\n",
        "        for i in range(fake_images.size(0)):\n",
        "            if saved_count < 3000:\n",
        "                save_image(fake_images[j], f\"Generated/fake_{saved_count}.png\", normalize=True)\n",
        "                saved_count += 1\n",
        "            else:\n",
        "                break\n",
        "\n"
      ]
    },
    {
      "cell_type": "code",
      "execution_count": 39,
      "id": "zrR3bnUF6Gsc",
      "metadata": {
        "id": "zrR3bnUF6Gsc"
      },
      "outputs": [],
      "source": [
        "os.makedirs(\"Real\", exist_ok=True)\n",
        "saved_count = 0\n",
        "for i, (images_batch, _) in enumerate(dataloader):\n",
        "    for j in range(images_batch.size(0)):\n",
        "        if saved_count >= 3000:\n",
        "            break\n",
        "        save_image(images_batch[j],f\"Real/real_{saved_count}.png\",normalize=True)\n",
        "        saved_count += 1\n",
        "        \n",
        "    if saved_count >= 3000:\n",
        "        break"
      ]
    },
    {
      "cell_type": "code",
      "execution_count": 13,
      "id": "aYRf2nQ66OEH",
      "metadata": {
        "colab": {
          "base_uri": "https://localhost:8080/"
        },
        "id": "aYRf2nQ66OEH",
        "outputId": "17f8b1a1-4577-4de4-f8e5-4c72df697240"
      },
      "outputs": [
        {
          "name": "stdout",
          "output_type": "stream",
          "text": [
            "Collecting torch-fidelity\n",
            "  Downloading torch_fidelity-0.3.0-py3-none-any.whl.metadata (2.0 kB)\n",
            "Requirement already satisfied: numpy in c:\\users\\swapna kundu\\appdata\\local\\programs\\python\\python311\\lib\\site-packages (from torch-fidelity) (2.1.3)\n",
            "Requirement already satisfied: Pillow in c:\\users\\swapna kundu\\appdata\\local\\programs\\python\\python311\\lib\\site-packages (from torch-fidelity) (11.1.0)\n",
            "Requirement already satisfied: scipy in c:\\users\\swapna kundu\\appdata\\local\\programs\\python\\python311\\lib\\site-packages (from torch-fidelity) (1.15.2)\n",
            "Requirement already satisfied: torch in c:\\users\\swapna kundu\\appdata\\local\\programs\\python\\python311\\lib\\site-packages (from torch-fidelity) (2.7.1+cu118)\n",
            "Requirement already satisfied: torchvision in c:\\users\\swapna kundu\\appdata\\local\\programs\\python\\python311\\lib\\site-packages (from torch-fidelity) (0.22.1+cu118)\n",
            "Requirement already satisfied: tqdm in c:\\users\\swapna kundu\\appdata\\local\\programs\\python\\python311\\lib\\site-packages (from torch-fidelity) (4.67.1)\n",
            "Requirement already satisfied: filelock in c:\\users\\swapna kundu\\appdata\\local\\programs\\python\\python311\\lib\\site-packages (from torch->torch-fidelity) (3.17.0)\n",
            "Requirement already satisfied: typing-extensions>=4.10.0 in c:\\users\\swapna kundu\\appdata\\roaming\\python\\python311\\site-packages (from torch->torch-fidelity) (4.12.2)\n",
            "Requirement already satisfied: sympy>=1.13.3 in c:\\users\\swapna kundu\\appdata\\local\\programs\\python\\python311\\lib\\site-packages (from torch->torch-fidelity) (1.13.3)\n",
            "Requirement already satisfied: networkx in c:\\users\\swapna kundu\\appdata\\local\\programs\\python\\python311\\lib\\site-packages (from torch->torch-fidelity) (3.4.2)\n",
            "Requirement already satisfied: jinja2 in c:\\users\\swapna kundu\\appdata\\local\\programs\\python\\python311\\lib\\site-packages (from torch->torch-fidelity) (3.1.6)\n",
            "Requirement already satisfied: fsspec in c:\\users\\swapna kundu\\appdata\\local\\programs\\python\\python311\\lib\\site-packages (from torch->torch-fidelity) (2025.2.0)\n",
            "Requirement already satisfied: mpmath<1.4,>=1.1.0 in c:\\users\\swapna kundu\\appdata\\local\\programs\\python\\python311\\lib\\site-packages (from sympy>=1.13.3->torch->torch-fidelity) (1.3.0)\n",
            "Requirement already satisfied: MarkupSafe>=2.0 in c:\\users\\swapna kundu\\appdata\\local\\programs\\python\\python311\\lib\\site-packages (from jinja2->torch->torch-fidelity) (3.0.2)\n",
            "Requirement already satisfied: colorama in c:\\users\\swapna kundu\\appdata\\roaming\\python\\python311\\site-packages (from tqdm->torch-fidelity) (0.4.6)\n",
            "Downloading torch_fidelity-0.3.0-py3-none-any.whl (37 kB)\n",
            "Installing collected packages: torch-fidelity\n",
            "Successfully installed torch-fidelity-0.3.0\n"
          ]
        },
        {
          "name": "stderr",
          "output_type": "stream",
          "text": [
            "WARNING: Ignoring invalid distribution ~yserini (C:\\Users\\Swapna Kundu\\AppData\\Local\\Programs\\Python\\Python311\\Lib\\site-packages)\n",
            "WARNING: Ignoring invalid distribution ~yserini (C:\\Users\\Swapna Kundu\\AppData\\Local\\Programs\\Python\\Python311\\Lib\\site-packages)\n",
            "WARNING: Ignoring invalid distribution ~yserini (C:\\Users\\Swapna Kundu\\AppData\\Local\\Programs\\Python\\Python311\\Lib\\site-packages)\n",
            "\n",
            "[notice] A new release of pip is available: 25.1.1 -> 25.2\n",
            "[notice] To update, run: python.exe -m pip install --upgrade pip\n"
          ]
        }
      ],
      "source": [
        "!pip install torch-fidelity"
      ]
    },
    {
      "cell_type": "code",
      "execution_count": 42,
      "id": "4XhL4-Kr6Mcs",
      "metadata": {
        "colab": {
          "base_uri": "https://localhost:8080/"
        },
        "id": "4XhL4-Kr6Mcs",
        "outputId": "731ba2a3-0c73-4698-8ad8-5fadd537874c"
      },
      "outputs": [
        {
          "name": "stderr",
          "output_type": "stream",
          "text": [
            "Creating feature extractor \"inception-v3-compat\" with features ['2048']\n",
            "Extracting statistics from input 1\n",
            "Looking for samples non-recursivelty in \"Real/\" with extensions png,jpg,jpeg\n",
            "Found 3000 samples\n",
            "Processing samples                                                           \n",
            "Extracting statistics from input 2\n",
            "Looking for samples non-recursivelty in \"Generated/\" with extensions png,jpg,jpeg\n",
            "Found 3000 samples\n",
            "Processing samples                                                           \n"
          ]
        },
        {
          "name": "stdout",
          "output_type": "stream",
          "text": [
            "FID: 290.0654308884336\n"
          ]
        },
        {
          "name": "stderr",
          "output_type": "stream",
          "text": [
            "Frechet Inception Distance: 290.0654308884336\n"
          ]
        }
      ],
      "source": [
        "from torch_fidelity import calculate_metrics\n",
        "\n",
        "metrics = calculate_metrics(\n",
        "    input1='Real/',       \n",
        "    input2='Generated/',  \n",
        "    fid=True,\n",
        "    cuda=torch.cuda.is_available()\n",
        ")\n",
        "\n",
        "print(\"FID:\", metrics['frechet_inception_distance'])"
      ]
    },
    {
      "cell_type": "code",
      "execution_count": null,
      "id": "6h66aH5iE6WZ",
      "metadata": {
        "id": "6h66aH5iE6WZ"
      },
      "outputs": [],
      "source": []
    }
  ],
  "metadata": {
    "accelerator": "GPU",
    "colab": {
      "gpuType": "T4",
      "provenance": []
    },
    "kernelspec": {
      "display_name": "Python 3",
      "name": "python3"
    },
    "language_info": {
      "codemirror_mode": {
        "name": "ipython",
        "version": 3
      },
      "file_extension": ".py",
      "mimetype": "text/x-python",
      "name": "python",
      "nbconvert_exporter": "python",
      "pygments_lexer": "ipython3",
      "version": "3.11.5"
    }
  },
  "nbformat": 4,
  "nbformat_minor": 5
}
